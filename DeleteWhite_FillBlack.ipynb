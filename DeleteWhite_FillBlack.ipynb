{
 "cells": [
  {
   "cell_type": "markdown",
   "metadata": {},
   "source": [
    "# This code is for Mask R-CNN image pre-processing\n",
    "# by moriitkys\n",
    "## 2nd cell : delete white(255,255,255) pixels from color images\n",
    "## 3rd cell  : put all pixels except white pixels into black(0,0,0) "
   ]
  },
  {
   "cell_type": "code",
   "execution_count": 4,
   "metadata": {},
   "outputs": [],
   "source": [
    "# This code is for making datasets for mask r-cnn\n",
    "\n",
    "# --- Tools and Parameters---\n",
    "import cv2\n",
    "import numpy as np\n",
    "import os\n",
    "import glob\n",
    "\n",
    "pathc = os.getcwd()\n",
    "pathc = pathc.replace(\"\\\\\", '/')\n",
    "#print(pathc)\n",
    "\n",
    "def imgSave(img, output_folder):\n",
    "    global n\n",
    "    n=n+1\n",
    "    filename = pathc+'/'+output_folder+'/img'+str(n).zfill(4)+'.png'\n",
    "    #print(filename)\n",
    "    cv2.imwrite(filename, img)"
   ]
  },
  {
   "cell_type": "code",
   "execution_count": 5,
   "metadata": {},
   "outputs": [],
   "source": [
    "#!/usr/bin/env python\n",
    "\n",
    "#delete white\n",
    "# -*- coding: utf-8 -*-\n",
    "#(255,255,255)を(244,244,244)に変換するコード　マスク画像の白円マスクを作る前の準備\n",
    "\n",
    "input_folder = 'dw_fb/dw_in'\n",
    "output_folder = 'dw_fb/dw_out'\n",
    "masks = glob.glob(pathc + '/' + input_folder + '/*')\n",
    "\n",
    "n = 0\n",
    "\n",
    "for f in masks:\n",
    "    src = cv2.imread(f)\n",
    "    out = src.copy()\n",
    "\n",
    "    height, width = src.shape[:2]\n",
    "\n",
    "    for j in range(0, height):\n",
    "        for i in range(0, width):\n",
    "            b_src = src.item(j,i,0)\n",
    "            g_src = src.item(j,i,1)\n",
    "            r_src = src.item(j,i,2)\n",
    "            if b_src == 255 and g_src == 255 and r_src == 255:\n",
    "                out.itemset((j, i, 0), 254)#blue\n",
    "                out.itemset((j, i, 1), 254)#green\n",
    "                out.itemset((j, i, 2), 254)#red\n",
    "    imgSave(out, output_folder)"
   ]
  },
  {
   "cell_type": "code",
   "execution_count": 7,
   "metadata": {},
   "outputs": [],
   "source": [
    "#!/usr/bin/env python\n",
    "# -*- coding: utf-8 -*-\n",
    "\n",
    "#fillblack\n",
    "#(255,255,255)以外のピクセルをすべて黒にする\n",
    "\n",
    "input_folder = 'dw_fb/fb_in'\n",
    "output_folder = 'dw_fb/fb_out'\n",
    "masks = glob.glob(pathc + '/' + input_folder + '/*')\n",
    "\n",
    "n = 0\n",
    "\n",
    "for f in masks:\n",
    "    src = cv2.imread(f)\n",
    "    out = src.copy()\n",
    "\n",
    "    height, width = src.shape[:2]\n",
    "\n",
    "    for j in range(0, height):\n",
    "        for i in range(0, width):\n",
    "            b_src = src.item(j,i,0)\n",
    "            g_src = src.item(j,i,1)\n",
    "            r_src = src.item(j,i,2)\n",
    "            if b_src == 255 and g_src == 255 and r_src == 255:\n",
    "                out.itemset((j, i, 0), 255)\n",
    "                out.itemset((j, i, 1), 255)\n",
    "                out.itemset((j, i, 2), 255)\n",
    "            else:\n",
    "                out.itemset((j, i, 0), 0)\n",
    "                out.itemset((j, i, 1), 0)\n",
    "                out.itemset((j, i, 2), 0)\n",
    "    imgSave(out, output_folder)"
   ]
  },
  {
   "cell_type": "code",
   "execution_count": null,
   "metadata": {},
   "outputs": [],
   "source": []
  }
 ],
 "metadata": {
  "kernelspec": {
   "display_name": "Python 3",
   "language": "python",
   "name": "python3"
  },
  "language_info": {
   "codemirror_mode": {
    "name": "ipython",
    "version": 3
   },
   "file_extension": ".py",
   "mimetype": "text/x-python",
   "name": "python",
   "nbconvert_exporter": "python",
   "pygments_lexer": "ipython3",
   "version": "3.6.5"
  }
 },
 "nbformat": 4,
 "nbformat_minor": 2
}
